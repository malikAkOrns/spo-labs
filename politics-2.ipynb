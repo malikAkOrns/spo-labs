{
 "cells": [
  {
   "cell_type": "code",
   "execution_count": 12,
   "metadata": {
    "colab": {},
    "colab_type": "code",
    "id": "gq4HL79hpKc9"
   },
   "outputs": [],
   "source": [
    "from bs4 import BeautifulSoup\n",
    "from lxml import html\n",
    "import requests\n",
    "import pandas as pd\n",
    "import numpy as np\n",
    "import matplotlib.pyplot as plt\n",
    "import re\n",
    "from sklearn.linear_model import LinearRegression\n",
    "from sklearn.metrics import mean_squared_error, r2_score\n",
    "from sklearn import datasets, linear_model\n",
    "%matplotlib inline\n",
    "import selenium.webdriver as webdriver\n",
    "from selenium.webdriver.common.keys import Keys\n",
    "import time\n",
    "import requests\n",
    "import plotly.express as px"
   ]
  },
  {
   "cell_type": "code",
   "execution_count": 8,
   "metadata": {
    "scrolled": true
   },
   "outputs": [
    {
     "name": "stdout",
     "output_type": "stream",
     "text": [
      "Requirement already satisfied: plotly in /Users/malika/Library/Python/3.7/lib/python/site-packages (4.4.1)\n",
      "Requirement already satisfied: retrying>=1.3.3 in /Users/malika/Library/Python/3.7/lib/python/site-packages (from plotly) (1.3.3)\n",
      "Requirement already satisfied: six in /Library/Frameworks/Python.framework/Versions/3.7/lib/python3.7/site-packages (from plotly) (1.12.0)\n",
      "\u001b[33mYou are using pip version 18.1, however version 19.3.1 is available.\n",
      "You should consider upgrading via the 'pip install --upgrade pip' command.\u001b[0m\n"
     ]
    }
   ],
   "source": [
    "!pip3 install --user plotly"
   ]
  },
  {
   "cell_type": "code",
   "execution_count": 2,
   "metadata": {
    "colab": {
     "base_uri": "https://localhost:8080/",
     "height": 137
    },
    "colab_type": "code",
    "id": "phZ1ip7WpUsq",
    "outputId": "4eaae2bd-83a5-4811-9df5-1279024c56b6"
   },
   "outputs": [
    {
     "name": "stdout",
     "output_type": "stream",
     "text": [
      "Collecting selenium\n",
      "\u001b[?25l  Downloading https://files.pythonhosted.org/packages/80/d6/4294f0b4bce4de0abf13e17190289f9d0613b0a44e5dd6a7f5ca98459853/selenium-3.141.0-py2.py3-none-any.whl (904kB)\n",
      "\u001b[K     |████████████████████████████████| 911kB 1.9MB/s eta 0:00:01\n",
      "\u001b[?25hRequirement already satisfied: urllib3 in /Users/malika/opt/anaconda3/lib/python3.7/site-packages (from selenium) (1.24.2)\n",
      "Installing collected packages: selenium\n",
      "Successfully installed selenium-3.141.0\n"
     ]
    }
   ],
   "source": [
    "!pip install selenium"
   ]
  },
  {
   "cell_type": "code",
   "execution_count": 11,
   "metadata": {},
   "outputs": [
    {
     "name": "stdout",
     "output_type": "stream",
     "text": [
      "Collecting plotly\n",
      "  Using cached https://files.pythonhosted.org/packages/8e/ce/6ea5683c47b682bffad39ad41d10913141b560b1b875a90dbc6abe3f4fa9/plotly-4.4.1-py2.py3-none-any.whl\n",
      "Collecting retrying>=1.3.3 (from plotly)\n",
      "  Using cached https://files.pythonhosted.org/packages/44/ef/beae4b4ef80902f22e3af073397f079c96969c69b2c7d52a57ea9ae61c9d/retrying-1.3.3.tar.gz\n",
      "Requirement already satisfied: six in /Users/malika/opt/anaconda3/lib/python3.7/site-packages (from plotly) (1.12.0)\n",
      "Building wheels for collected packages: retrying\n",
      "  Building wheel for retrying (setup.py) ... \u001b[?25ldone\n",
      "\u001b[?25h  Created wheel for retrying: filename=retrying-1.3.3-cp37-none-any.whl size=11429 sha256=a4a36e4d82a78ed6f2b8b41847bdae9f43ccca15199e62bc450d4feab92f2b9f\n",
      "  Stored in directory: /Users/malika/Library/Caches/pip/wheels/d7/a9/33/acc7b709e2a35caa7d4cae442f6fe6fbf2c43f80823d46460c\n",
      "Successfully built retrying\n",
      "Installing collected packages: retrying, plotly\n",
      "Successfully installed plotly-4.4.1 retrying-1.3.3\n"
     ]
    }
   ],
   "source": [
    "!pip install plotly"
   ]
  },
  {
   "cell_type": "code",
   "execution_count": 13,
   "metadata": {
    "colab": {
     "base_uri": "https://localhost:8080/",
     "height": 170
    },
    "colab_type": "code",
    "id": "_pQ6AO0vpKdF",
    "outputId": "135b6fd9-1984-43de-b1d1-fd85a13a8df6"
   },
   "outputs": [
    {
     "name": "stdout",
     "output_type": "stream",
     "text": [
      "       0       1       2       3       4       5       6      7       8   \\\n",
      "0  105510  147015  101715  122638  255414  173058  147651  84723  106551   \n",
      "1    6206   10177    4480    6139    9031    7395    6380   4156    5501   \n",
      "2   19818   26213   17177   22156   46362   26233   28405  20635   24219   \n",
      "3    5783    8799    4429    7840   10970    8505    6854   4604    4945   \n",
      "4   25.46   24.92   21.95   22.95    21.2   19.93   23.23  30.82   25.05   \n",
      "\n",
      "      9   ...      21      22      23      24      25     26      27      28  \\\n",
      "0  93291  ...  137381  136998  126000  138569  127787  89318  175819  162685   \n",
      "1   4104  ...    8526    5463    4252    5608    4978   4111    7750    6424   \n",
      "2  19296  ...   27667   24976   23750   25665   21077  13463   30515   32701   \n",
      "3   4351  ...    7067    5849    4641    7684    6477   3852    8468    8669   \n",
      "4  23.24  ...   26.11   21.74   21.97   22.04   21.12  19.33   21.59   20.64   \n",
      "\n",
      "      29   30  \n",
      "0  67326  535  \n",
      "1   4644  194  \n",
      "2  12315   82  \n",
      "3   3880  121  \n",
      "4  25.12  100  \n",
      "\n",
      "[5 rows x 31 columns]\n"
     ]
    }
   ],
   "source": [
    "url = \"http://www.st-petersburg.vybory.izbirkom.ru/region/region/st-petersburg?action=show&root=1&tvd=27820001217417&vrn=27820001217413&region=78&global=&sub_region=78&prver=0&pronetvd=null&vibid=27820001217417&type=222\"\n",
    "table = BeautifulSoup(requests.get(url).text).findAll('table')[8]\n",
    "titles = [\"digital\" if len(title.string.split(\"№\")) == 1 else title.string.split(\"№\")[1] for title in table.findAll('a')]\n",
    "values = [value.string for value in table.findAll('b')]\n",
    "data = []\n",
    "for i in range(len(values)):\n",
    "    if i // len(titles) == 0 or i // len(titles) > 10:\n",
    "        if i % len(titles) == 0: \n",
    "            data.append([])\n",
    "        data[-1].append(values[i])\n",
    "df = pd.DataFrame(data)\n",
    "\n",
    "url = \"http://www.st-petersburg.vybory.izbirkom.ru/region/region/st-petersburg?action=show&root=1&tvd=27820001217417&vrn=27820001217413&region=78&global=&sub_region=78&prver=0&pronetvd=null&vibid=27820001217417&type=454\"\n",
    "values = [value.string.strip() for value in BeautifulSoup(requests.get(url).text).findAll(\"td\", {\"class\": \"tdData\"})][5:]\n",
    "attendance = []\n",
    "for i in range(len(values)):\n",
    "    if (i % 5 == 4):\n",
    "        attendance.append(float(values[i].split(\"%\")[0])) \n",
    "attendance.append(100.0)\n",
    "attendance_df = pd.DataFrame(attendance).transpose()\n",
    "df = df.append(attendance_df, ignore_index=True)\n",
    "print(df)"
   ]
  },
  {
   "cell_type": "code",
   "execution_count": 14,
   "metadata": {
    "colab": {},
    "colab_type": "code",
    "id": "XZ4y6Z1mpKdO"
   },
   "outputs": [],
   "source": [
    "def getTIC(ticNumber):\n",
    "    urlTicNumber = 27820001217419 + ticNumber\n",
    "    url = \"http://www.st-petersburg.vybory.izbirkom.ru/region/region/st-petersburg?action=show&tvd=27820001217417&vrn=27820001217413&region=78&global=&sub_region=78&prver=0&pronetvd=null&type=222&vibid=\" + str(urlTicNumber)\n",
    "    table = BeautifulSoup(requests.get(url).text).findAll('table')[8]\n",
    "    titles = [title.string.split(\"№\")[1] for title in table.findAll('td', text = re.compile('УИК №'))]\n",
    "    values = [value.string for value in table.findAll('b')]\n",
    "    data = []\n",
    "    for i in range(len(values)):\n",
    "        if i // len(titles) == 0 or i // len(titles) > 10:\n",
    "            if i % len(titles) == 0: \n",
    "                data.append([])\n",
    "            data[-1].append(values[i])\n",
    "    cleanData = {\n",
    "        'tik': titles,\n",
    "        'uik': titles,\n",
    "        'all': data[0], \n",
    "        'amosov': data[1],\n",
    "        'beglov': data[2],\n",
    "        'tihonova': data[3]\n",
    "    }\n",
    "    localDf = pd.DataFrame(cleanData).astype(int)\n",
    "    localDf['tik'] = ticNumber+1\n",
    "    return localDf"
   ]
  },
  {
   "cell_type": "code",
   "execution_count": 15,
   "metadata": {
    "colab": {
     "base_uri": "https://localhost:8080/",
     "height": 433
    },
    "colab_type": "code",
    "id": "ypKsUfGGpKdQ",
    "outputId": "82407696-19ed-4204-a337-5470b9c6bb24"
   },
   "outputs": [
    {
     "data": {
      "text/html": [
       "<div>\n",
       "<style scoped>\n",
       "    .dataframe tbody tr th:only-of-type {\n",
       "        vertical-align: middle;\n",
       "    }\n",
       "\n",
       "    .dataframe tbody tr th {\n",
       "        vertical-align: top;\n",
       "    }\n",
       "\n",
       "    .dataframe thead th {\n",
       "        text-align: right;\n",
       "    }\n",
       "</style>\n",
       "<table border=\"1\" class=\"dataframe\">\n",
       "  <thead>\n",
       "    <tr style=\"text-align: right;\">\n",
       "      <th></th>\n",
       "      <th>tik</th>\n",
       "      <th>uik</th>\n",
       "      <th>all</th>\n",
       "      <th>amosov</th>\n",
       "      <th>beglov</th>\n",
       "      <th>tihonova</th>\n",
       "    </tr>\n",
       "  </thead>\n",
       "  <tbody>\n",
       "    <tr>\n",
       "      <td>0</td>\n",
       "      <td>1.0</td>\n",
       "      <td>1.0</td>\n",
       "      <td>1803.0</td>\n",
       "      <td>110.0</td>\n",
       "      <td>345.0</td>\n",
       "      <td>120.0</td>\n",
       "    </tr>\n",
       "    <tr>\n",
       "      <td>1</td>\n",
       "      <td>1.0</td>\n",
       "      <td>2.0</td>\n",
       "      <td>1466.0</td>\n",
       "      <td>53.0</td>\n",
       "      <td>326.0</td>\n",
       "      <td>46.0</td>\n",
       "    </tr>\n",
       "    <tr>\n",
       "      <td>2</td>\n",
       "      <td>1.0</td>\n",
       "      <td>3.0</td>\n",
       "      <td>2092.0</td>\n",
       "      <td>155.0</td>\n",
       "      <td>332.0</td>\n",
       "      <td>96.0</td>\n",
       "    </tr>\n",
       "    <tr>\n",
       "      <td>3</td>\n",
       "      <td>1.0</td>\n",
       "      <td>4.0</td>\n",
       "      <td>1056.0</td>\n",
       "      <td>67.0</td>\n",
       "      <td>171.0</td>\n",
       "      <td>71.0</td>\n",
       "    </tr>\n",
       "    <tr>\n",
       "      <td>4</td>\n",
       "      <td>1.0</td>\n",
       "      <td>5.0</td>\n",
       "      <td>1827.0</td>\n",
       "      <td>137.0</td>\n",
       "      <td>266.0</td>\n",
       "      <td>82.0</td>\n",
       "    </tr>\n",
       "    <tr>\n",
       "      <td>...</td>\n",
       "      <td>...</td>\n",
       "      <td>...</td>\n",
       "      <td>...</td>\n",
       "      <td>...</td>\n",
       "      <td>...</td>\n",
       "      <td>...</td>\n",
       "    </tr>\n",
       "    <tr>\n",
       "      <td>45</td>\n",
       "      <td>30.0</td>\n",
       "      <td>2350.0</td>\n",
       "      <td>284.0</td>\n",
       "      <td>21.0</td>\n",
       "      <td>184.0</td>\n",
       "      <td>14.0</td>\n",
       "    </tr>\n",
       "    <tr>\n",
       "      <td>46</td>\n",
       "      <td>30.0</td>\n",
       "      <td>2351.0</td>\n",
       "      <td>132.0</td>\n",
       "      <td>7.0</td>\n",
       "      <td>91.0</td>\n",
       "      <td>13.0</td>\n",
       "    </tr>\n",
       "    <tr>\n",
       "      <td>47</td>\n",
       "      <td>30.0</td>\n",
       "      <td>2352.0</td>\n",
       "      <td>320.0</td>\n",
       "      <td>20.0</td>\n",
       "      <td>193.0</td>\n",
       "      <td>23.0</td>\n",
       "    </tr>\n",
       "    <tr>\n",
       "      <td>48</td>\n",
       "      <td>30.0</td>\n",
       "      <td>2355.0</td>\n",
       "      <td>485.0</td>\n",
       "      <td>23.0</td>\n",
       "      <td>290.0</td>\n",
       "      <td>32.0</td>\n",
       "    </tr>\n",
       "    <tr>\n",
       "      <td>49</td>\n",
       "      <td>30.0</td>\n",
       "      <td>2356.0</td>\n",
       "      <td>620.0</td>\n",
       "      <td>39.0</td>\n",
       "      <td>345.0</td>\n",
       "      <td>38.0</td>\n",
       "    </tr>\n",
       "  </tbody>\n",
       "</table>\n",
       "<p>2021 rows × 6 columns</p>\n",
       "</div>"
      ],
      "text/plain": [
       "     tik     uik     all  amosov  beglov  tihonova\n",
       "0    1.0     1.0  1803.0   110.0   345.0     120.0\n",
       "1    1.0     2.0  1466.0    53.0   326.0      46.0\n",
       "2    1.0     3.0  2092.0   155.0   332.0      96.0\n",
       "3    1.0     4.0  1056.0    67.0   171.0      71.0\n",
       "4    1.0     5.0  1827.0   137.0   266.0      82.0\n",
       "..   ...     ...     ...     ...     ...       ...\n",
       "45  30.0  2350.0   284.0    21.0   184.0      14.0\n",
       "46  30.0  2351.0   132.0     7.0    91.0      13.0\n",
       "47  30.0  2352.0   320.0    20.0   193.0      23.0\n",
       "48  30.0  2355.0   485.0    23.0   290.0      32.0\n",
       "49  30.0  2356.0   620.0    39.0   345.0      38.0\n",
       "\n",
       "[2021 rows x 6 columns]"
      ]
     },
     "execution_count": 15,
     "metadata": {},
     "output_type": "execute_result"
    }
   ],
   "source": [
    "df = pd.DataFrame({\n",
    "        'tik': [],\n",
    "        'uik': [],\n",
    "        'all': [], \n",
    "        'amosov': [],\n",
    "        'beglov': [],\n",
    "        'tihonova': []\n",
    "    }).astype(float)\n",
    "for i in range(30):\n",
    "    df = df.append(getTIC(i))\n",
    "df  \n",
    "    "
   ]
  },
  {
   "cell_type": "code",
   "execution_count": 16,
   "metadata": {
    "colab": {},
    "colab_type": "code",
    "id": "8NJz6cD1pKdV"
   },
   "outputs": [],
   "source": [
    "def plot(x,y,label):\n",
    "    x=np.array(x).reshape(-1,1)\n",
    "    y=np.array(y).reshape(-1,1)\n",
    "    l=LinearRegression().fit(x,y)\n",
    "    c=l.coef_[0][0]\n",
    "    xmin=min(x)\n",
    "    xmax=max(x)\n",
    "    ls=np.linspace(xmin,xmax)\n",
    "    plt.plot(ls,ls*c,color='red')\n",
    "    plt.scatter(x,y,linewidth=1)\n",
    "    plt.legend(['МНК','Голоса за '+label])\n",
    "    print('MSE =',mean_squared_error(y,x*c))\n",
    "    print('R2 score = ',r2_score(y,x*c))\n",
    "    plt.show()\n",
    "    print()"
   ]
  },
  {
   "cell_type": "code",
   "execution_count": 17,
   "metadata": {
    "colab": {
     "base_uri": "https://localhost:8080/",
     "height": 930
    },
    "colab_type": "code",
    "id": "yDXiMmaXpKdY",
    "outputId": "ee2fc0a3-4e63-44d8-b21c-e4c7bf312b77"
   },
   "outputs": [
    {
     "name": "stdout",
     "output_type": "stream",
     "text": [
      "MSE = 1266.383906573136\n",
      "R2 score =  0.230245217943443\n"
     ]
    },
    {
     "data": {
      "image/png": "[encoded data removed]",
      "text/plain": [
       "<Figure size 432x288 with 1 Axes>"
      ]
     },
     "metadata": {
      "needs_background": "light"
     },
     "output_type": "display_data"
    },
    {
     "name": "stdout",
     "output_type": "stream",
     "text": [
      "\n",
      "MSE = 37158.99666640875\n",
      "R2 score =  -0.10831618982542035\n"
     ]
    },
    {
     "data": {
      "image/png": "[encoded data removed]",
      "text/plain": [
       "<Figure size 432x288 with 1 Axes>"
      ]
     },
     "metadata": {
      "needs_background": "light"
     },
     "output_type": "display_data"
    },
    {
     "name": "stdout",
     "output_type": "stream",
     "text": [
      "\n",
      "MSE = 1103.4794256204677\n",
      "R2 score =  0.4469261776244977\n"
     ]
    },
    {
     "data": {
      "image/png": "[encoded data removed]",
      "text/plain": [
       "<Figure size 432x288 with 1 Axes>"
      ]
     },
     "metadata": {
      "needs_background": "light"
     },
     "output_type": "display_data"
    },
    {
     "name": "stdout",
     "output_type": "stream",
     "text": [
      "\n"
     ]
    }
   ],
   "source": [
    "plot(df['all'], df['amosov'], \"amosov\")\n",
    "plot(df['all'], df['beglov'], \"beglov\")\n",
    "plot(df['all'], df['tihonova'], \"tihonova\")"
   ]
  },
  {
   "cell_type": "code",
   "execution_count": 18,
   "metadata": {
    "colab": {
     "base_uri": "https://localhost:8080/",
     "height": 436
    },
    "colab_type": "code",
    "id": "JOY5-VHapKdd",
    "outputId": "7872ba86-8365-4d43-9da3-e65db89183ae"
   },
   "outputs": [
    {
     "ename": "WebDriverException",
     "evalue": "Message: 'chromedriver 2' executable needs to be in PATH. Please see https://sites.google.com/a/chromium.org/chromedriver/home\n",
     "output_type": "error",
     "traceback": [
      "\u001b[0;31m---------------------------------------------------------------------------\u001b[0m",
      "\u001b[0;31mFileNotFoundError\u001b[0m                         Traceback (most recent call last)",
      "\u001b[0;32m~/opt/anaconda3/lib/python3.7/site-packages/selenium/webdriver/common/service.py\u001b[0m in \u001b[0;36mstart\u001b[0;34m(self)\u001b[0m\n\u001b[1;32m     75\u001b[0m                                             \u001b[0mstderr\u001b[0m\u001b[0;34m=\u001b[0m\u001b[0mself\u001b[0m\u001b[0;34m.\u001b[0m\u001b[0mlog_file\u001b[0m\u001b[0;34m,\u001b[0m\u001b[0;34m\u001b[0m\u001b[0;34m\u001b[0m\u001b[0m\n\u001b[0;32m---> 76\u001b[0;31m                                             stdin=PIPE)\n\u001b[0m\u001b[1;32m     77\u001b[0m         \u001b[0;32mexcept\u001b[0m \u001b[0mTypeError\u001b[0m\u001b[0;34m:\u001b[0m\u001b[0;34m\u001b[0m\u001b[0;34m\u001b[0m\u001b[0m\n",
      "\u001b[0;32m~/opt/anaconda3/lib/python3.7/subprocess.py\u001b[0m in \u001b[0;36m__init__\u001b[0;34m(self, args, bufsize, executable, stdin, stdout, stderr, preexec_fn, close_fds, shell, cwd, env, universal_newlines, startupinfo, creationflags, restore_signals, start_new_session, pass_fds, encoding, errors, text)\u001b[0m\n\u001b[1;32m    774\u001b[0m                                 \u001b[0merrread\u001b[0m\u001b[0;34m,\u001b[0m \u001b[0merrwrite\u001b[0m\u001b[0;34m,\u001b[0m\u001b[0;34m\u001b[0m\u001b[0;34m\u001b[0m\u001b[0m\n\u001b[0;32m--> 775\u001b[0;31m                                 restore_signals, start_new_session)\n\u001b[0m\u001b[1;32m    776\u001b[0m         \u001b[0;32mexcept\u001b[0m\u001b[0;34m:\u001b[0m\u001b[0;34m\u001b[0m\u001b[0;34m\u001b[0m\u001b[0m\n",
      "\u001b[0;32m~/opt/anaconda3/lib/python3.7/subprocess.py\u001b[0m in \u001b[0;36m_execute_child\u001b[0;34m(self, args, executable, preexec_fn, close_fds, pass_fds, cwd, env, startupinfo, creationflags, shell, p2cread, p2cwrite, c2pread, c2pwrite, errread, errwrite, restore_signals, start_new_session)\u001b[0m\n\u001b[1;32m   1521\u001b[0m                             \u001b[0merr_msg\u001b[0m \u001b[0;34m+=\u001b[0m \u001b[0;34m': '\u001b[0m \u001b[0;34m+\u001b[0m \u001b[0mrepr\u001b[0m\u001b[0;34m(\u001b[0m\u001b[0merr_filename\u001b[0m\u001b[0;34m)\u001b[0m\u001b[0;34m\u001b[0m\u001b[0;34m\u001b[0m\u001b[0m\n\u001b[0;32m-> 1522\u001b[0;31m                     \u001b[0;32mraise\u001b[0m \u001b[0mchild_exception_type\u001b[0m\u001b[0;34m(\u001b[0m\u001b[0merrno_num\u001b[0m\u001b[0;34m,\u001b[0m \u001b[0merr_msg\u001b[0m\u001b[0;34m,\u001b[0m \u001b[0merr_filename\u001b[0m\u001b[0;34m)\u001b[0m\u001b[0;34m\u001b[0m\u001b[0;34m\u001b[0m\u001b[0m\n\u001b[0m\u001b[1;32m   1523\u001b[0m                 \u001b[0;32mraise\u001b[0m \u001b[0mchild_exception_type\u001b[0m\u001b[0;34m(\u001b[0m\u001b[0merr_msg\u001b[0m\u001b[0;34m)\u001b[0m\u001b[0;34m\u001b[0m\u001b[0;34m\u001b[0m\u001b[0m\n",
      "\u001b[0;31mFileNotFoundError\u001b[0m: [Errno 2] No such file or directory: '/content/drive/My Drive/chromedriver 2': '/content/drive/My Drive/chromedriver 2'",
      "\nDuring handling of the above exception, another exception occurred:\n",
      "\u001b[0;31mWebDriverException\u001b[0m                        Traceback (most recent call last)",
      "\u001b[0;32m<ipython-input-18-9e9e89a816fc>\u001b[0m in \u001b[0;36m<module>\u001b[0;34m\u001b[0m\n\u001b[1;32m      1\u001b[0m \u001b[0murl\u001b[0m \u001b[0;34m=\u001b[0m \u001b[0;34m\"http://www.st-petersburg.vybory.izbirkom.ru/region/st-petersburg/?action=ik&vrn=4784001269007\"\u001b[0m\u001b[0;34m\u001b[0m\u001b[0;34m\u001b[0m\u001b[0m\n\u001b[0;32m----> 2\u001b[0;31m \u001b[0mdriver\u001b[0m \u001b[0;34m=\u001b[0m \u001b[0mwebdriver\u001b[0m\u001b[0;34m.\u001b[0m\u001b[0mChrome\u001b[0m\u001b[0;34m(\u001b[0m\u001b[0;34m'/content/drive/My Drive/chromedriver 2'\u001b[0m\u001b[0;34m)\u001b[0m\u001b[0;34m\u001b[0m\u001b[0;34m\u001b[0m\u001b[0m\n\u001b[0m\u001b[1;32m      3\u001b[0m \u001b[0mdriver\u001b[0m\u001b[0;34m.\u001b[0m\u001b[0mget\u001b[0m\u001b[0;34m(\u001b[0m\u001b[0murl\u001b[0m\u001b[0;34m)\u001b[0m\u001b[0;34m\u001b[0m\u001b[0;34m\u001b[0m\u001b[0m\n",
      "\u001b[0;32m~/opt/anaconda3/lib/python3.7/site-packages/selenium/webdriver/chrome/webdriver.py\u001b[0m in \u001b[0;36m__init__\u001b[0;34m(self, executable_path, port, options, service_args, desired_capabilities, service_log_path, chrome_options, keep_alive)\u001b[0m\n\u001b[1;32m     71\u001b[0m             \u001b[0mservice_args\u001b[0m\u001b[0;34m=\u001b[0m\u001b[0mservice_args\u001b[0m\u001b[0;34m,\u001b[0m\u001b[0;34m\u001b[0m\u001b[0;34m\u001b[0m\u001b[0m\n\u001b[1;32m     72\u001b[0m             log_path=service_log_path)\n\u001b[0;32m---> 73\u001b[0;31m         \u001b[0mself\u001b[0m\u001b[0;34m.\u001b[0m\u001b[0mservice\u001b[0m\u001b[0;34m.\u001b[0m\u001b[0mstart\u001b[0m\u001b[0;34m(\u001b[0m\u001b[0;34m)\u001b[0m\u001b[0;34m\u001b[0m\u001b[0;34m\u001b[0m\u001b[0m\n\u001b[0m\u001b[1;32m     74\u001b[0m \u001b[0;34m\u001b[0m\u001b[0m\n\u001b[1;32m     75\u001b[0m         \u001b[0;32mtry\u001b[0m\u001b[0;34m:\u001b[0m\u001b[0;34m\u001b[0m\u001b[0;34m\u001b[0m\u001b[0m\n",
      "\u001b[0;32m~/opt/anaconda3/lib/python3.7/site-packages/selenium/webdriver/common/service.py\u001b[0m in \u001b[0;36mstart\u001b[0;34m(self)\u001b[0m\n\u001b[1;32m     81\u001b[0m                 raise WebDriverException(\n\u001b[1;32m     82\u001b[0m                     \"'%s' executable needs to be in PATH. %s\" % (\n\u001b[0;32m---> 83\u001b[0;31m                         os.path.basename(self.path), self.start_error_message)\n\u001b[0m\u001b[1;32m     84\u001b[0m                 )\n\u001b[1;32m     85\u001b[0m             \u001b[0;32melif\u001b[0m \u001b[0merr\u001b[0m\u001b[0;34m.\u001b[0m\u001b[0merrno\u001b[0m \u001b[0;34m==\u001b[0m \u001b[0merrno\u001b[0m\u001b[0;34m.\u001b[0m\u001b[0mEACCES\u001b[0m\u001b[0;34m:\u001b[0m\u001b[0;34m\u001b[0m\u001b[0;34m\u001b[0m\u001b[0m\n",
      "\u001b[0;31mWebDriverException\u001b[0m: Message: 'chromedriver 2' executable needs to be in PATH. Please see https://sites.google.com/a/chromium.org/chromedriver/home\n"
     ]
    }
   ],
   "source": [
    "url = \"http://www.st-petersburg.vybory.izbirkom.ru/region/st-petersburg/?action=ik&vrn=4784001269007\"\n",
    "driver = webdriver.Chrome('/chromedriver')\n",
    "driver.get(url)\n"
   ]
  },
  {
   "cell_type": "code",
   "execution_count": null,
   "metadata": {
    "colab": {
     "base_uri": "https://localhost:8080/",
     "height": 120
    },
    "colab_type": "code",
    "id": "jScM3iPE5On9",
    "outputId": "6fbb6093-ce71-4746-aadf-bac708e7b35f"
   },
   "outputs": [],
   "source": [
    "from google.colab import drive\n",
    "drive.mount('/content/drive')"
   ]
  },
  {
   "cell_type": "code",
   "execution_count": null,
   "metadata": {
    "colab": {
     "base_uri": "https://localhost:8080/",
     "height": 247
    },
    "colab_type": "code",
    "id": "u242hO5ppKdf",
    "outputId": "0da4b376-6610-46c2-978c-41b97561bfdc"
   },
   "outputs": [],
   "source": [
    "tiks = [driver.find_elements_by_class_name(\"jstree-open\")[1].get_attribute(\"id\")]\n",
    "tiks.extend([i.get_attribute(\"id\") for i in driver.find_elements_by_class_name(\"jstree-closed\")])\n",
    "uiks = []\n",
    "len(tiks)\n",
    "for i in tiks:\n",
    "    driver.get(\"http://www.st-petersburg.vybory.izbirkom.ru/region/st-petersburg/?action=ik&vrn=\"+i)\n",
    "    time.sleep(2)\n",
    "    elements = driver.find_elements_by_class_name(\"jstree-leaf\")\n",
    "    print(len(elements))\n",
    "    uiks.extend([i.get_attribute(\"id\") for i in elements])\n",
    "    "
   ]
  },
  {
   "cell_type": "code",
   "execution_count": null,
   "metadata": {
    "colab": {
     "base_uri": "https://localhost:8080/",
     "height": 247
    },
    "colab_type": "code",
    "id": "EdvfpFvgpKdh",
    "outputId": "ed3ff284-2bea-44ac-df02-ef8a4f3f8b6e"
   },
   "outputs": [],
   "source": [
    "addresses = {}\n",
    "for i in uiks:\n",
    "    url = \"http://www.st-petersburg.vybory.izbirkom.ru/region/st-petersburg/?action=ik&vrn=\" + i\n",
    "    soup = BeautifulSoup(requests.get(url).text)\n",
    "    address = soup.find(\"span\", {\"id\": \"address_ik\"}).findChild().string\n",
    "    uikId = int(soup.findAll(\"h2\")[1].string.split(\"№\")[1].split()[0])\n",
    "    addresses[uikId] = address\n",
    "print(addresses)\n",
    "\n"
   ]
  },
  {
   "cell_type": "code",
   "execution_count": null,
   "metadata": {
    "colab": {},
    "colab_type": "code",
    "id": "TXc6lcOSpKdk"
   },
   "outputs": [],
   "source": [
    "coordinates = {}\n",
    "print()\n",
    "for i in addresses.keys():\n",
    "    resp = requests.get('https://geocode-maps.yandex.ru/1.x?geocode=' + addresses[i] + '&apikey=7431bc8c-b001-46a5-b77d-980fb6fae0bf&format=json')\n",
    "    coordinates[i] = [float(i) for i in resp.json()[\"response\"][\"GeoObjectCollection\"][\"featureMember\"][0][\"GeoObject\"][\"Point\"][\"pos\"].split()]"
   ]
  },
  {
   "cell_type": "code",
   "execution_count": null,
   "metadata": {
    "colab": {},
    "colab_type": "code",
    "id": "0ZwIjPaGpKdm"
   },
   "outputs": [],
   "source": [
    "cooArr = {\n",
    "        'lat': np.zeros(df.shape[0]),\n",
    "        'lon': np.zeros(df.shape[0])\n",
    "}\n",
    "df1 = df.copy()\n",
    "df1['lat'] = pd.Series(np.zeros(df.shape[0]))\n",
    "df1['lon'] = pd.Series(np.zeros(df.shape[0]))\n",
    "\n",
    "for k,v in coordinates.items():\n",
    "    index = df1.where(df1[\"uik\"] == k).dropna().index\n",
    "    df1['lat'][index[0]] = v[1]\n",
    "    df1['lon'][index[0]] = v[0]\n",
    "df1[\"amosov_percent\"] = df1[\"amosov\"] / df1[\"all\"]\n",
    "df1[\"tihonova_percent\"] = df1[\"tihonova\"] / df1[\"all\"]\n",
    "df1[\"beglov_percent\"] = df1[\"beglov\"] / df1[\"all\"]"
   ]
  },
  {
   "cell_type": "code",
   "execution_count": null,
   "metadata": {
    "colab": {},
    "colab_type": "code",
    "id": "-VyDxfjZpKdo"
   },
   "outputs": [],
   "source": [
    "fig = px.scatter_mapbox(df1, lat=\"lat\", lon=\"lon\", hover_name=\"uik\", \n",
    "                        hover_data=[\"amosov_percent\"], color=\"amosov_percent\", size=\"all\",\n",
    "                        color_continuous_scale=px.colors.cyclical.IceFire, zoom=7, height=300)\n",
    "fig.update_layout(mapbox_style=\"open-street-map\")\n",
    "fig.update_layout(margin={\"r\":0,\"t\":0,\"l\":0,\"b\":0})\n",
    "fig.show()\n",
    "# , \"beglov\", \"tihonova\""
   ]
  },
  {
   "cell_type": "code",
   "execution_count": null,
   "metadata": {
    "colab": {},
    "colab_type": "code",
    "id": "_p7P-TxXpKds"
   },
   "outputs": [],
   "source": [
    "fig = px.scatter_mapbox(df1, lat=\"lat\", lon=\"lon\", hover_name=\"uik\", \n",
    "                        hover_data=[\"beglov_percent\"], color=\"beglov_percent\", size=\"all\",\n",
    "                        color_continuous_scale=px.colors.cyclical.IceFire, zoom=7, height=300)\n",
    "fig.update_layout(mapbox_style=\"open-street-map\")\n",
    "fig.update_layout(margin={\"r\":0,\"t\":0,\"l\":0,\"b\":0})\n",
    "fig.show()"
   ]
  },
  {
   "cell_type": "code",
   "execution_count": null,
   "metadata": {
    "colab": {},
    "colab_type": "code",
    "id": "3Zn0F12bpKdt"
   },
   "outputs": [],
   "source": [
    "fig = px.scatter_mapbox(df1, lat=\"lat\", lon=\"lon\", hover_name=\"uik\", \n",
    "                        hover_data=[\"tihonova_percent\"], color=\"tihonova_percent\", size=\"all\",\n",
    "                        color_continuous_scale=px.colors.cyclical.IceFire, zoom=7, height=300)\n",
    "fig.update_layout(mapbox_style=\"open-street-map\")\n",
    "fig.update_layout(margin={\"r\":0,\"t\":0,\"l\":0,\"b\":0})\n",
    "fig.show()"
   ]
  },
  {
   "cell_type": "code",
   "execution_count": null,
   "metadata": {
    "colab": {},
    "colab_type": "code",
    "id": "qS86wyLWpKdu"
   },
   "outputs": [],
   "source": [
    "\n"
   ]
  },
  {
   "cell_type": "code",
   "execution_count": 0,
   "metadata": {
    "colab": {},
    "colab_type": "code",
    "id": "TBMcYXzupKdw"
   },
   "outputs": [],
   "source": []
  }
 ],
 "metadata": {
  "colab": {
   "name": "politics.ipynb",
   "provenance": []
  },
  "file_extension": ".py",
  "kernelspec": {
   "display_name": "Python 3",
   "language": "python",
   "name": "python3"
  },
  "language_info": {
   "codemirror_mode": {
    "name": "ipython",
    "version": 3
   },
   "file_extension": ".py",
   "mimetype": "text/x-python",
   "name": "python",
   "nbconvert_exporter": "python",
   "pygments_lexer": "ipython3",
   "version": "3.7.4"
  },
  "mimetype": "text/x-python",
  "name": "python",
  "npconvert_exporter": "python",
  "pygments_lexer": "ipython3",
  "version": 3
 },
 "nbformat": 4,
 "nbformat_minor": 1
}
